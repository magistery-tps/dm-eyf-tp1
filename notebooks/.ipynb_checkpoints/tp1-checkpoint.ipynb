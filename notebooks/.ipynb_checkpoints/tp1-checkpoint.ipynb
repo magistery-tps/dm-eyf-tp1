{
 "cells": [
  {
   "cell_type": "markdown",
   "id": "a32c5c96-2a49-493e-8744-46546f0aea4a",
   "metadata": {},
   "source": [
    "https://www.kaggle.com/harsh1kumar/santander-trxn-pred-lightgbm/"
   ]
  },
  {
   "cell_type": "markdown",
   "id": "ecd842d4-c61f-4407-89e8-ce2588c6e8fb",
   "metadata": {},
   "source": [
    "https://www.kaggle.com/harsh1kumar/santander-trxn-pred-lightgbm/"
   ]
  },
  {
   "cell_type": "markdown",
   "id": "a5a7ff5a-5ffd-45f6-823c-57f68ba86288",
   "metadata": {},
   "source": [
    "https://sefiks.com/2018/10/13/a-gentle-introduction-to-lightgbm-for-applied-machine-learning/"
   ]
  },
  {
   "cell_type": "code",
   "execution_count": 270,
   "id": "4d5411a3-a48a-47fd-beb7-e132b3e3bfbc",
   "metadata": {},
   "outputs": [],
   "source": [
    "import pandas as pd\n",
    "import numpy as np\n",
    "import lightgbm as lgb\n",
    "\n",
    "from sklearn.model_selection import train_test_split\n",
    "from sklearn.metrics import roc_auc_score, confusion_matrix, fbeta_score\n",
    "\n",
    "import seaborn as sns\n",
    "import matplotlib.pylab as plt\n",
    "from matplotlib import rcParams"
   ]
  },
  {
   "cell_type": "code",
   "execution_count": 2,
   "id": "240ae54a-5f7f-481a-a5fd-afdce5bb1fde",
   "metadata": {},
   "outputs": [],
   "source": [
    "import warnings\n",
    "warnings.filterwarnings(\"ignore\")"
   ]
  },
  {
   "cell_type": "code",
   "execution_count": 255,
   "id": "10739b11-1bec-42a3-aa2d-167c1ad61824",
   "metadata": {},
   "outputs": [],
   "source": [
    "def plot_confusion_matrix(\n",
    "    cm,\n",
    "    target_names = ['Negative', 'Positive'],\n",
    "    title        = 'Confusion matrix',\n",
    "    cmap         = None,\n",
    "    normalize    = False,\n",
    "    figsize      = (4, 4)\n",
    "):\n",
    "    \"\"\"\n",
    "    given a sklearn confusion matrix (cm), make a nice plot\n",
    "\n",
    "    Arguments\n",
    "    ---------\n",
    "    cm:           confusion matrix from sklearn.metrics.confusion_matrix\n",
    "\n",
    "    target_names: given classification classes such as [0, 1, 2]\n",
    "                  the class names, for example: ['high', 'medium', 'low']\n",
    "\n",
    "    title:        the text to display at the top of the matrix\n",
    "\n",
    "    cmap:         the gradient of the values displayed from matplotlib.pyplot.cm\n",
    "                  see http://matplotlib.org/examples/color/colormaps_reference.html\n",
    "                  plt.get_cmap('jet') or plt.cm.Blues\n",
    "\n",
    "    normalize:    If False, plot the raw numbers\n",
    "                  If True, plot the proportions\n",
    "\n",
    "    Usage\n",
    "    -----\n",
    "    plot_confusion_matrix(cm           = cm,                  # confusion matrix created by\n",
    "                                                              # sklearn.metrics.confusion_matrix\n",
    "                          normalize    = True,                # show proportions\n",
    "                          target_names = y_labels_vals,       # list of names of the classes\n",
    "                          title        = best_estimator_name) # title of graph\n",
    "\n",
    "    Citiation\n",
    "    ---------\n",
    "    http://scikit-learn.org/stable/auto_examples/model_selection/plot_confusion_matrix.html\n",
    "\n",
    "    \"\"\"\n",
    "    import matplotlib.pyplot as plt\n",
    "    import numpy as np\n",
    "    import itertools\n",
    "\n",
    "    accuracy = np.trace(cm) / float(np.sum(cm))\n",
    "    misclass = 1 - accuracy\n",
    "\n",
    "    if cmap is None:\n",
    "        cmap = plt.get_cmap('Blues')\n",
    "\n",
    "    plt.figure(figsize=figsize)\n",
    "    plt.imshow(cm, interpolation='nearest', cmap=cmap)\n",
    "    plt.title(title)\n",
    "    plt.colorbar()\n",
    "\n",
    "    if target_names is not None:\n",
    "        tick_marks = np.arange(len(target_names))\n",
    "        plt.xticks(tick_marks, target_names, rotation=45)\n",
    "        plt.yticks(tick_marks, target_names)\n",
    "\n",
    "    if normalize:\n",
    "        cm = cm.astype('float') / cm.sum(axis=1)[:, np.newaxis]\n",
    "\n",
    "\n",
    "    thresh = cm.max() / 1.5 if normalize else cm.max() / 2\n",
    "    for i, j in itertools.product(range(cm.shape[0]), range(cm.shape[1])):\n",
    "        if normalize:\n",
    "            plt.text(j, i, \"{:0.4f}\".format(cm[i, j]),\n",
    "                     horizontalalignment=\"center\",\n",
    "                     color=\"white\" if cm[i, j] > thresh else \"black\")\n",
    "        else:\n",
    "            plt.text(j, i, \"{:,}\".format(cm[i, j]),\n",
    "                     horizontalalignment=\"center\",\n",
    "                     color=\"white\" if cm[i, j] > thresh else \"black\")\n",
    "\n",
    "\n",
    "    plt.tight_layout()\n",
    "    plt.ylabel('True label')\n",
    "    plt.xlabel('Predicted label\\naccuracy={:0.4f}; misclass={:0.4f}'.format(accuracy, misclass))\n",
    "    plt.show()"
   ]
  },
  {
   "cell_type": "code",
   "execution_count": 4,
   "id": "9ab6cc59-e1ad-44f6-bac7-682d92bfaf85",
   "metadata": {},
   "outputs": [],
   "source": [
    "def lgbm_cv(train, target, cv_params):\n",
    "    params = {\n",
    "        'train_set': lgb.Dataset(train, label=target), \n",
    "        **cv_params\n",
    "    }\n",
    "    return lgb.cv(**params)\n",
    "\n",
    "def lgbm_train(train_set, val_set, model_params):\n",
    "    params = {\n",
    "        'train_set': lgb.Dataset(train_set[0], label=train_set[1]),\n",
    "        'valid_sets': [lgb.Dataset(val_set[0], label=val_set[1])], \n",
    "        **model_params\n",
    "    }\n",
    "    return lgb.train(**params)\n",
    "\n",
    "def plot_lgbm_features_importance(model, figsize = (6,4), max_num_features=5):\n",
    "    plt.rcParams[\"figure.figsize\"] = figsize\n",
    "    ax = lgb.plot_importance(model, max_num_features=5)\n",
    "    plt.show()\n",
    "\n",
    "def plot_lgbm_tree(model, figsize = (10,10)):\n",
    "    plt.rcParams[\"figure.figsize\"] = (10,10)\n",
    "    lgb.plot_tree(model)\n",
    "    plt.show()"
   ]
  },
  {
   "cell_type": "code",
   "execution_count": 5,
   "id": "fa2875ee-dbd2-42cf-b5f9-2d832390a5d0",
   "metadata": {},
   "outputs": [],
   "source": [
    "dataset = pd.read_csv('../dataset/paquete_premium_202009.csv')"
   ]
  },
  {
   "cell_type": "code",
   "execution_count": 6,
   "id": "c3515d89-9bf5-4bec-a660-95317f82a312",
   "metadata": {},
   "outputs": [
    {
     "name": "stdout",
     "output_type": "stream",
     "text": [
      "<class 'pandas.core.frame.DataFrame'>\n",
      "RangeIndex: 235354 entries, 0 to 235353\n",
      "Columns: 158 entries, numero_de_cliente to clase_ternaria\n",
      "dtypes: float64(87), int64(70), object(1)\n",
      "memory usage: 283.7+ MB\n"
     ]
    }
   ],
   "source": [
    "dataset.info()"
   ]
  },
  {
   "cell_type": "code",
   "execution_count": 7,
   "id": "9716fb6e-b1e9-4c00-be81-12056ccaeb84",
   "metadata": {},
   "outputs": [],
   "source": [
    "categorical_features = [\n",
    "    'active_quarter',\n",
    "    'cliente_vip',\n",
    "    'internet',\n",
    "    'tpaquete3',\n",
    "    'tpaquete4',\n",
    "    'tcuentas',\n",
    "    'ccaja_seguridad',\n",
    "    'thomebanking',\n",
    "    'tmobile_app',\n",
    "    'Master_delinquency',\n",
    "    'Master_status',\n",
    "    'Visa_delinquency',\n",
    "    'Visa_status'\n",
    "] "
   ]
  },
  {
   "cell_type": "code",
   "execution_count": 8,
   "id": "a53e53ad-90cc-499e-934c-20f639258e50",
   "metadata": {},
   "outputs": [],
   "source": [
    "target = 'clase_ternaria'\n",
    "excluded_columns = [target, 'numero_de_cliente', 'foto_mes']"
   ]
  },
  {
   "cell_type": "code",
   "execution_count": 9,
   "id": "cde06aa8-1729-4042-9953-9b04a2205165",
   "metadata": {},
   "outputs": [
    {
     "data": {
      "text/plain": [
       "0    233894\n",
       "1      1460\n",
       "Name: target, dtype: int64"
      ]
     },
     "execution_count": 9,
     "metadata": {},
     "output_type": "execute_result"
    }
   ],
   "source": [
    "dataset['target'] = dataset[target].apply(lambda value: 0 if 'CONTINUA' == value else 1)\n",
    "dataset.target.value_counts()"
   ]
  },
  {
   "cell_type": "code",
   "execution_count": 10,
   "id": "5698643c-782a-449f-a7a6-71f54997e9dd",
   "metadata": {},
   "outputs": [
    {
     "data": {
      "text/plain": [
       "target  clase_ternaria\n",
       "0       CONTINUA          233894\n",
       "1       BAJA+1               685\n",
       "        BAJA+2               775\n",
       "dtype: int64"
      ]
     },
     "execution_count": 10,
     "metadata": {},
     "output_type": "execute_result"
    }
   ],
   "source": [
    "dataset.groupby(['target', target]).size()"
   ]
  },
  {
   "cell_type": "code",
   "execution_count": 11,
   "id": "dfaa0b28-385c-4f12-9bee-b3370277ebf2",
   "metadata": {},
   "outputs": [
    {
     "data": {
      "text/plain": [
       "<AxesSubplot:xlabel='target', ylabel='count'>"
      ]
     },
     "execution_count": 11,
     "metadata": {},
     "output_type": "execute_result"
    },
    {
     "data": {
      "image/png": "[encoded data removed]",
      "text/plain": [
       "<Figure size 216x216 with 1 Axes>"
      ]
     },
     "metadata": {
      "needs_background": "light"
     },
     "output_type": "display_data"
    }
   ],
   "source": [
    "rcParams['figure.figsize'] = (3, 3)\n",
    "sns.countplot(dataset.target)"
   ]
  },
  {
   "cell_type": "code",
   "execution_count": 12,
   "id": "7e0118c4-3303-4a53-981d-1f8cf1b75968",
   "metadata": {},
   "outputs": [],
   "source": [
    "dataset = dataset.drop(excluded_columns, axis=1)"
   ]
  },
  {
   "cell_type": "code",
   "execution_count": 13,
   "id": "d4e1447c-f981-404f-a73d-062ceff448df",
   "metadata": {},
   "outputs": [],
   "source": [
    "# dataset.dtypes.to_dict() "
   ]
  },
  {
   "cell_type": "code",
   "execution_count": 14,
   "id": "50eba021-162b-460b-b65c-fea6b8bfad62",
   "metadata": {},
   "outputs": [],
   "source": [
    "feature_columns = list(set(dataset.columns) - set(excluded_columns) - set(['target']))"
   ]
  },
  {
   "cell_type": "code",
   "execution_count": 15,
   "id": "869f68dc-aedd-4a73-ae1d-76b93ed22aa8",
   "metadata": {},
   "outputs": [],
   "source": [
    "X = dataset.loc[:, feature_columns]\n",
    "y = dataset.loc[:,['target']]"
   ]
  },
  {
   "cell_type": "code",
   "execution_count": 16,
   "id": "e380ab1f-8c07-4ab8-9e77-b0e3da708a8d",
   "metadata": {},
   "outputs": [
    {
     "data": {
      "text/plain": [
       "False"
      ]
     },
     "execution_count": 16,
     "metadata": {},
     "output_type": "execute_result"
    }
   ],
   "source": [
    "target in X.columns"
   ]
  },
  {
   "cell_type": "code",
   "execution_count": 17,
   "id": "1a5fcc6e-dc29-4a48-b874-4d681934eaea",
   "metadata": {},
   "outputs": [
    {
     "data": {
      "text/plain": [
       "False"
      ]
     },
     "execution_count": 17,
     "metadata": {},
     "output_type": "execute_result"
    }
   ],
   "source": [
    "'target' in X.columns"
   ]
  },
  {
   "cell_type": "code",
   "execution_count": 339,
   "id": "53d93581-99bc-4201-84f5-4e5ef4bbdf61",
   "metadata": {},
   "outputs": [
    {
     "data": {
      "text/plain": [
       "{'binary_logloss-mean': [0.03621727917101016],\n",
       " 'binary_logloss-stdv': [0.00012756544994528923]}"
      ]
     },
     "execution_count": 339,
     "metadata": {},
     "output_type": "execute_result"
    }
   ],
   "source": [
    "hyper_params = {\n",
    "    'deterministic': True,\n",
    "    'max_depth': 2,\n",
    "    'num_leaves': 2,\n",
    "    'objective': 'binary',\n",
    "    'metric': 'binary_logloss',\n",
    "    'is_unbalance': 'true',\n",
    "    'learning_rate': 0.01,\n",
    "    'num_boost_round': 200,\n",
    "    'verbosity': -1\n",
    "}\n",
    "\n",
    "cv_params = {\n",
    "    'params': hyper_params,\n",
    "\n",
    "    'stratified': True,\n",
    "    'nfold': 10,\n",
    "    'shuffle': True,\n",
    "    'metrics': ['binary_logloss'],\n",
    "    'seed': 0,\n",
    "    'early_stopping_rounds': 100,\n",
    "    'verbose_eval': False\n",
    "}\n",
    "\n",
    "cv_result = lgbm_cv(X, y, cv_params)\n",
    "cv_result"
   ]
  },
  {
   "cell_type": "code",
   "execution_count": null,
   "id": "7f3c5e85-f9e6-456f-9ba0-2c13564df9c0",
   "metadata": {},
   "outputs": [
    {
     "name": "stdout",
     "output_type": "stream",
     "text": [
      "[1]\tvalid_0's binary_logloss: 1.53743\n",
      "[2]\tvalid_0's binary_logloss: 0.348455\n",
      "[3]\tvalid_0's binary_logloss: 0.386903\n",
      "[4]\tvalid_0's binary_logloss: 0.584388\n",
      "[5]\tvalid_0's binary_logloss: 0.585999\n",
      "[6]\tvalid_0's binary_logloss: 0.588072\n",
      "[7]\tvalid_0's binary_logloss: 0.590458\n",
      "[8]\tvalid_0's binary_logloss: 0.593041\n",
      "[9]\tvalid_0's binary_logloss: 0.594743\n",
      "[10]\tvalid_0's binary_logloss: 0.597053\n",
      "f1.5score: 1.9883506537043243%\n"
     ]
    },
    {
     "data": {
      "image/png": "[encoded data removed]",
      "text/plain": [
       "<Figure size 288x288 with 2 Axes>"
      ]
     },
     "metadata": {
      "needs_background": "light"
     },
     "output_type": "display_data"
    },
    {
     "data": {
      "image/png": "[encoded data removed]",
      "text/plain": [
       "<Figure size 432x288 with 1 Axes>"
      ]
     },
     "metadata": {
      "needs_background": "light"
     },
     "output_type": "display_data"
    },
    {
     "data": {
      "image/png": "[encoded data removed]",
      "text/plain": [
       "<Figure size 720x720 with 1 Axes>"
      ]
     },
     "metadata": {
      "needs_background": "light"
     },
     "output_type": "display_data"
    },
    {
     "name": "stdout",
     "output_type": "stream",
     "text": [
      "1    238986\n",
      "Name: Predicted, dtype: int64\n",
      "0    224594\n",
      "1     14392\n",
      "Name: Predicted, dtype: int64\n"
     ]
    }
   ],
   "source": [
    "model_params = {\n",
    "    'params':  {\n",
    "        'deterministic': True,\n",
    "        'max_depth': 2,\n",
    "        'num_leaves': 2,\n",
    "        'objective': 'binary',\n",
    "        'is_unbalance': 'true',\n",
    "        'metric': 'binary_logloss',\n",
    "        'learning_rate': 0.01,\n",
    "        'num_boost_round': 10,\n",
    "        'verbosity': -1\n",
    "    },\n",
    "    'categorical_feature': categorical_features,\n",
    "}\n",
    "\n",
    "X_train, X_valid, y_train, y_valid = train_test_split(X, y, stratify=y, test_size=0.2, random_state=1)\n",
    "X_train.shape, y_train.shape, X_valid.shape, y_valid.shape\n",
    "\n",
    "model = lgbm_train(\n",
    "    train_set    = (X_train, y_train),\n",
    "    val_set      = (X_valid, y_valid),\n",
    "    model_params = model_params \n",
    ")\n",
    "\n",
    "y_train_pred = model.predict(X_train)\n",
    "y_valid_pred = model.predict(X_valid)\n",
    "\n",
    "threshold = 0.025\n",
    "y_train_pred = (y_train_pred >= threshold).astype(int)\n",
    "y_valid_pred = (y_valid_pred >= threshold).astype(int)\n",
    "\n",
    "beta=1.5\n",
    "print(f'f{beta}score: {fbeta_score(y_valid, y_valid_pred, beta=beta)*100}%')\n",
    "plot_confusion_matrix(cm=confusion_matrix(y_valid, y_valid_pred))\n",
    "plot_lgbm_features_importance(model)\n",
    "plot_lgbm_tree(model)\n",
    "\n",
    "\n",
    "\n",
    "\n",
    "test_set = pd.read_csv('../dataset/paquete_premium_202011.csv')\n",
    "X_test   = test_set.drop(excluded_columns, axis=1)\n",
    "\n",
    "y_test_pred = model.predict(X_test)\n",
    "y_test_pred = (y_test_pred >= threshold).astype(int)\n",
    "\n",
    "result = pd.DataFrame()\n",
    "result['numero_de_cliente'] = test_set['numero_de_cliente'].astype(int)\n",
    "result['Predicted']         = y_test_pred\n",
    "\n",
    "print(result['Predicted'].value_counts())\n",
    "result.to_csv('result.csv', index=False) \n",
    "\n",
    "best_result = pd.read_csv('../src/K101_001.csv')\n",
    "print(best_result['Predicted'].value_counts())"
   ]
  },
  {
   "cell_type": "code",
   "execution_count": null,
   "id": "9322c6c3-8e96-42b4-b9f8-8514ea966816",
   "metadata": {},
   "outputs": [],
   "source": []
  }
 ],
 "metadata": {
  "kernelspec": {
   "display_name": "Python 3 (ipykernel)",
   "language": "python",
   "name": "python3"
  },
  "language_info": {
   "codemirror_mode": {
    "name": "ipython",
    "version": 3
   },
   "file_extension": ".py",
   "mimetype": "text/x-python",
   "name": "python",
   "nbconvert_exporter": "python",
   "pygments_lexer": "ipython3",
   "version": "3.9.7"
  }
 },
 "nbformat": 4,
 "nbformat_minor": 5
}
